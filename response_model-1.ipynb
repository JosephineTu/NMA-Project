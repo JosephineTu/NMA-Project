{
 "cells": [
  {
   "cell_type": "code",
   "execution_count": 1,
   "metadata": {},
   "outputs": [
    {
     "name": "stdout",
     "output_type": "stream",
     "text": [
      "(300, 200, 200)\n"
     ]
    }
   ],
   "source": [
    "import numpy as np\n",
    "\n",
    "def generate_rotating_wedge_stimulus(n_frames=300,\n",
    "                                     height=200,\n",
    "                                     width=200,\n",
    "                                     visual_field_deg=16.08,\n",
    "                                     wedge_width_deg=90,\n",
    "                                     cycle_duration=32,\n",
    "                                     n_cycles=8,\n",
    "                                     blank_duration=22,\n",
    "                                     direction='ccw'):\n",
    "    \"\"\"\n",
    "    Generates a binary stimulus matrix representing a rotating wedge stimulus.\n",
    "\n",
    "    Parameters:\n",
    "    - n_frames: total number of frames (TRs), default 300\n",
    "    - height, width: spatial resolution in pixels\n",
    "    - visual_field_deg: total size of visual field in degrees (assumed square)\n",
    "    - wedge_width_deg: angular width of the rotating wedge\n",
    "    - cycle_duration: seconds per full 360° rotation (1 cycle)\n",
    "    - n_cycles: number of full cycles\n",
    "    - blank_duration: seconds of blank at start and end\n",
    "    - direction: 'ccw' or 'cw' (counterclockwise or clockwise)\n",
    "\n",
    "    Returns:\n",
    "    - stimulus: array of shape (n_frames, height, width) with binary apertures\n",
    "    \"\"\"\n",
    "    # Visual field coordinate grid in degrees\n",
    "    x = np.linspace(-visual_field_deg / 2, visual_field_deg / 2, width)\n",
    "    y = np.linspace(-visual_field_deg / 2, visual_field_deg / 2, height)\n",
    "    xv, yv = np.meshgrid(x, y)\n",
    "    polar_angle = (np.arctan2(yv, xv) * 180 / np.pi) % 360  # 0 to 360\n",
    "\n",
    "    # TRs\n",
    "    tr = 1.0\n",
    "    frames_per_cycle = int(cycle_duration / tr)\n",
    "    blank_frames = int(blank_duration / tr)\n",
    "    stimulus = np.zeros((n_frames, height, width))\n",
    "\n",
    "    # Fill in the rotating wedge frames\n",
    "    for t in range(blank_frames, n_frames - blank_frames):\n",
    "        cycle_pos = (t - blank_frames) % frames_per_cycle\n",
    "        angle = (360 * cycle_pos / frames_per_cycle) % 360\n",
    "        if direction == 'cw':\n",
    "            angle = (360 - angle) % 360  # reverse rotation\n",
    "\n",
    "        angle_diff = (polar_angle - angle + 180) % 360 - 180\n",
    "        wedge_mask = (np.abs(angle_diff) <= wedge_width_deg / 2)\n",
    "        stimulus[t][wedge_mask] = 1.0\n",
    "\n",
    "    return stimulus\n",
    "\n",
    "# Example usage\n",
    "stimulus_matrix = generate_rotating_wedge_stimulus()\n",
    "print(stimulus_matrix.shape)  "
   ]
  },
  {
   "cell_type": "code",
   "execution_count": 1,
   "metadata": {},
   "outputs": [],
   "source": [
    "def make_prf_matrix(x0_pix, y0_pix, sigma_pix, height=200, width=200):\n",
    "    \"\"\"\n",
    "    Generate a 2D Gaussian pRF matrix over a 200x200 grid (pixel units).\n",
    "    \n",
    "    Parameters:\n",
    "    - x0_pix, y0_pix: center of the pRF in pixels (0-199)\n",
    "    - sigma_pix: standard deviation of the Gaussian in pixels\n",
    "    - height, width: grid size (default 200x200)\n",
    "    \n",
    "    Returns:\n",
    "    - prf: 2D array of shape (height, width)\n",
    "    \"\"\"\n",
    "    x = np.linspace(0, width - 1, width)\n",
    "    y = np.linspace(0, height - 1, height)\n",
    "    xv, yv = np.meshgrid(x, y)\n",
    "\n",
    "    prf = np.exp(-((xv - x0_pix)**2 + (yv - y0_pix)**2) / (2 * sigma_pix**2))\n",
    "    return prf"
   ]
  },
  {
   "cell_type": "code",
   "execution_count": 3,
   "metadata": {},
   "outputs": [
    {
     "name": "stdout",
     "output_type": "stream",
     "text": [
      "Requirement already satisfied: nilearn in /opt/anaconda3/lib/python3.12/site-packages (0.12.0)\n",
      "Requirement already satisfied: joblib>=1.2.0 in /opt/anaconda3/lib/python3.12/site-packages (from nilearn) (1.4.2)\n",
      "Requirement already satisfied: lxml in /opt/anaconda3/lib/python3.12/site-packages (from nilearn) (5.4.0)\n",
      "Requirement already satisfied: nibabel>=5.2.0 in /opt/anaconda3/lib/python3.12/site-packages (from nilearn) (5.3.2)\n",
      "Requirement already satisfied: numpy>=1.22.4 in /opt/anaconda3/lib/python3.12/site-packages (from nilearn) (1.26.4)\n",
      "Requirement already satisfied: packaging in /opt/anaconda3/lib/python3.12/site-packages (from nilearn) (23.2)\n",
      "Requirement already satisfied: pandas>=2.2.0 in /opt/anaconda3/lib/python3.12/site-packages (from nilearn) (2.2.2)\n",
      "Requirement already satisfied: requests>=2.25.0 in /opt/anaconda3/lib/python3.12/site-packages (from nilearn) (2.32.2)\n",
      "Requirement already satisfied: scikit-learn>=1.4.0 in /opt/anaconda3/lib/python3.12/site-packages (from nilearn) (1.4.2)\n",
      "Requirement already satisfied: scipy>=1.8.0 in /opt/anaconda3/lib/python3.12/site-packages (from nilearn) (1.13.1)\n",
      "Requirement already satisfied: typing-extensions>=4.6 in /opt/anaconda3/lib/python3.12/site-packages (from nibabel>=5.2.0->nilearn) (4.11.0)\n",
      "Requirement already satisfied: python-dateutil>=2.8.2 in /opt/anaconda3/lib/python3.12/site-packages (from pandas>=2.2.0->nilearn) (2.9.0.post0)\n",
      "Requirement already satisfied: pytz>=2020.1 in /opt/anaconda3/lib/python3.12/site-packages (from pandas>=2.2.0->nilearn) (2024.1)\n",
      "Requirement already satisfied: tzdata>=2022.7 in /opt/anaconda3/lib/python3.12/site-packages (from pandas>=2.2.0->nilearn) (2023.3)\n",
      "Requirement already satisfied: charset-normalizer<4,>=2 in /opt/anaconda3/lib/python3.12/site-packages (from requests>=2.25.0->nilearn) (2.0.4)\n",
      "Requirement already satisfied: idna<4,>=2.5 in /opt/anaconda3/lib/python3.12/site-packages (from requests>=2.25.0->nilearn) (3.7)\n",
      "Requirement already satisfied: urllib3<3,>=1.21.1 in /opt/anaconda3/lib/python3.12/site-packages (from requests>=2.25.0->nilearn) (2.2.2)\n",
      "Requirement already satisfied: certifi>=2017.4.17 in /opt/anaconda3/lib/python3.12/site-packages (from requests>=2.25.0->nilearn) (2025.4.26)\n",
      "Requirement already satisfied: threadpoolctl>=2.0.0 in /opt/anaconda3/lib/python3.12/site-packages (from scikit-learn>=1.4.0->nilearn) (2.2.0)\n",
      "Requirement already satisfied: six>=1.5 in /opt/anaconda3/lib/python3.12/site-packages (from python-dateutil>=2.8.2->pandas>=2.2.0->nilearn) (1.16.0)\n",
      "Note: you may need to restart the kernel to use updated packages.\n",
      "Shape of fMRI data: (300, 91282)\n"
     ]
    }
   ],
   "source": [
    "%pip install nilearn\n",
    "import nibabel as nib\n",
    "fmri_file = \"./hcp_retino/HCP7T_retino/tfMRI_RETBAR1_7T_AP.dtseries.nii\"\n",
    "\n",
    "# Load the file\n",
    "img = nib.load(fmri_file)\n",
    "data = img.get_fdata()\n",
    "\n",
    "print(\"Shape of fMRI data:\", data.shape)"
   ]
  },
  {
   "cell_type": "code",
   "execution_count": 4,
   "metadata": {},
   "outputs": [],
   "source": [
    "def simulate_voxel_response(stimulus, prf):\n",
    "    \"\"\"\n",
    "    Simulate a voxel's neural response over time by multiplying the stimulus with a pRF.\n",
    "\n",
    "    Parameters:\n",
    "    - stimulus: 3D array of shape (T, H, W), where T = timepoints (TRs)\n",
    "    - prf: 2D array of shape (H, W), the pRF matrix\n",
    "\n",
    "    Returns:\n",
    "    - response: 1D array of shape (T,), predicted neural response over time\n",
    "    \"\"\"\n",
    "    # Dot product over (H, W) for each timepoint\n",
    "    response = np.tensordot(stimulus, prf, axes=([1, 2], [0, 1]))\n",
    "    return response"
   ]
  }
 ],
 "metadata": {
  "kernelspec": {
   "display_name": "base",
   "language": "python",
   "name": "python3"
  },
  "language_info": {
   "codemirror_mode": {
    "name": "ipython",
    "version": 3
   },
   "file_extension": ".py",
   "mimetype": "text/x-python",
   "name": "python",
   "nbconvert_exporter": "python",
   "pygments_lexer": "ipython3",
   "version": "3.12.2"
  }
 },
 "nbformat": 4,
 "nbformat_minor": 2
}
